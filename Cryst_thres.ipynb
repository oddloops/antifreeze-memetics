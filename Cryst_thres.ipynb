{
 "cells": [
  {
   "cell_type": "code",
   "execution_count": 1,
   "metadata": {},
   "outputs": [],
   "source": [
    "# library imports\n",
    "import os\n",
    "import glob\n",
    "\n",
    "# plotting library\n",
    "import matplotlib.pyplot as plt\n",
    "import numpy as np"
   ]
  },
  {
   "cell_type": "code",
   "execution_count": 2,
   "metadata": {},
   "outputs": [],
   "source": [
    "txt_files = glob.glob(os.path.join('C:\\\\Users\\\\Vinci\\\\Desktop\\\\Ice Crystal Program\\\\07142023\\\\', '*.txt'))\n",
    "n_txt_files = len(txt_files)\n",
    "batch_size = 4\n",
    "file_batches = [txt_files[i:i + batch_size] for i in range(0, n_txt_files, batch_size)]"
   ]
  },
  {
   "cell_type": "code",
   "execution_count": 3,
   "metadata": {},
   "outputs": [],
   "source": [
    "'''\n",
    "Function to convert each element in a line to its correct corresponding data type.\n",
    "\n",
    "Parameters:\n",
    "line (str): A string representing a line from a file, containing elements of various data types.\n",
    "\n",
    "Return:\n",
    "converted_elements (list): A list containing elements converted to their appropriate data types: strings, integers, or floats.\n",
    "\n",
    "Note:\n",
    "The function assumes that the input line contains elements separated by delimiters (e.g., spaces or commas) \n",
    "and will attempt to convert each element to its respective data type. \n",
    "If a conversion is not possible, the element will remain as a string in the output list.\n",
    "\n",
    "'''\n",
    "def convert_line(line):\n",
    "    elements = line.split(',')\n",
    "    converted_elements  = []\n",
    "    for element in elements:\n",
    "        element = element.strip()\n",
    "        try:\n",
    "            element = int(element)\n",
    "        except ValueError:\n",
    "            try:\n",
    "                element = float(element)\n",
    "            except ValueError:\n",
    "                pass\n",
    "        converted_elements.append(element)\n",
    "    return converted_elements \n",
    "\n",
    "\n",
    "'''\n",
    "Function to read a txt file and create a 2D list containing each line as a list\n",
    "\n",
    "Parameters:\n",
    "filename(str): A string representing the name of the file\n",
    "\n",
    "Return:\n",
    "lines (2D list): list of all lines from file (lines converted to list)\n",
    "'''\n",
    "def parse_file_data(filename):\n",
    "    lines = []\n",
    "    quotes = str.maketrans('', '', '\"')\n",
    "    with open(filename, 'r') as file:\n",
    "        for line in file:\n",
    "            # remove any whitespace\n",
    "            line = line.strip()\n",
    "            if line:\n",
    "                # creates a list for the line\n",
    "                line = convert_line(line.translate(quotes))\n",
    "                lines.append(line)\n",
    "    return lines"
   ]
  },
  {
   "cell_type": "code",
   "execution_count": 4,
   "metadata": {},
   "outputs": [],
   "source": [
    "def process_batch_ice_volume(batch):\n",
    "    # files to read\n",
    "    data_files = batch\n",
    "\n",
    "    # 3D list ([[[]]]) that contains all lines from file as list\n",
    "    file_data = []\n",
    "\n",
    "    # list that contains lines as list composing only lines of ice volume data from each file. Length = # of files read\n",
    "    ice_volume_total_image_area = []\n",
    "\n",
    "    # read each file and get all lines as list, store them into file_data list. length = # of files\n",
    "    for file in data_files:\n",
    "        file_data.append(parse_file_data(file))\n",
    "\n",
    "    # Get the total image area from ice volume data\n",
    "    for data in file_data:\n",
    "        ice_volume_total_image_area.append(data[4][1])\n",
    "        \n",
    "    return ice_volume_total_image_area\n",
    "\n",
    "def process_batch_threshhold(batch):\n",
    "    batch_data = {}\n",
    "\n",
    "    # files to read\n",
    "    data_files = batch\n",
    "\n",
    "    # 3D list ([[[]]]) that contains all lines from file as list\n",
    "    file_data = []\n",
    "\n",
    "    # list that contains lines as list composing threshold data from each file. Length = # of files read\n",
    "    threshold_file_data = []\n",
    "\n",
    "    # read each file and get all lines as list, store them into file_data list. length = # of files\n",
    "    for file in data_files:\n",
    "        file_data.append(parse_file_data(file))\n",
    "\n",
    "    # separate the ice_volume data from threshold data\n",
    "    for data in file_data:\n",
    "        threshold_file_data.append(data[11:])\n",
    "\n",
    "    # column header/key defining threshold data values\n",
    "    object_data_keys = file_data[0][10]\n",
    "\n",
    "    # threshold data combining key and data values\n",
    "    # threshold_data: list of dictionaries/hashmap of the threshold data from ALL files\n",
    "    threshold_data = []\n",
    "\n",
    "    # goes through each file\n",
    "    for dataset in threshold_file_data:\n",
    "        for data in dataset:\n",
    "            # maps the key to its value for each object in a file\n",
    "            threshold_data.append(dict(zip(object_data_keys, data)))\n",
    "\n",
    "    # invert all roundness values r -> 1/r\n",
    "    for file_object in threshold_data:\n",
    "        file_object['Roundness'] = 1 / file_object['Roundness']\n",
    "\n",
    "    # keep only objects with a roundness of 0.7 < (1/R) < 1.0\n",
    "    filtered_threshold_data = []\n",
    "    for object_data in threshold_data:\n",
    "        object_roundness = object_data['Roundness']\n",
    "        if 0.7 < object_roundness < 1.0:\n",
    "            filtered_threshold_data.append(object_data)\n",
    "\n",
    "    # Remove any duplicates based on the absolute difference of Centroid X,Y\n",
    "    unique_objects = []\n",
    "\n",
    "    filtered_threshold_data.sort(key=lambda x: x['Centroid X'])\n",
    "    combined_n = len(filtered_threshold_data)\n",
    "    for i in range(combined_n):\n",
    "        uni_obj = True\n",
    "        obj1 = filtered_threshold_data[i]\n",
    "        for j in range(combined_n - 1, i, -1):\n",
    "            obj2 = filtered_threshold_data[j]\n",
    "            # Flags the object as a dup\n",
    "            if abs(obj1['Centroid X'] - obj2['Centroid X']) < 0.2 and abs(obj1['Centroid Y'] - obj2['Centroid Y']) < 0.2:\n",
    "                uni_obj = False\n",
    "                break\n",
    "        if uni_obj:\n",
    "            unique_objects.append(obj1)\n",
    "\n",
    "    # return the list of unique objects\n",
    "    return unique_objects"
   ]
  },
  {
   "cell_type": "code",
   "execution_count": 5,
   "metadata": {},
   "outputs": [],
   "source": [
    "def calculate_area(unique_objects):\n",
    "    area = 0\n",
    "    for uni_object in unique_objects:\n",
    "        area += uni_object['Area']\n",
    "    return area\n",
    "\n",
    "def calculate_average_radii(unique_objects):\n",
    "    average_radii = 0\n",
    "    unique_len = len(unique_objects)\n",
    "    for uni_object in unique_objects:\n",
    "        average_radii += (uni_object['Equivalent Circle Diameter'] / 2)\n",
    "\n",
    "    # calculate the average radii\n",
    "    average_radii = (average_radii / unique_len) ** 3\n",
    "    return average_radii\n",
    "\n",
    "def calculate_ivf(ice_volume_data, area):\n",
    "    total_image_area = 0\n",
    "    for ice_volume in ice_volume_data:\n",
    "        total_image_area += sum(ice_volume)\n",
    "    ivf = area / total_image_area\n",
    "    return ivf"
   ]
  },
  {
   "cell_type": "code",
   "execution_count": 6,
   "metadata": {},
   "outputs": [],
   "source": [
    "batches_ice_volumes = [process_batch_ice_volume(batch) for batch in file_batches]\n",
    "batch_files_data = [process_batch_threshhold(batch) for batch in file_batches]\n",
    "batches_data = [\n",
    "    {'Average Radii': calculate_average_radii(batch), \n",
    "     'IVF': calculate_ivf(batches_ice_volumes, calculate_area(batch))\n",
    "    } \n",
    "    for batch in batch_files_data\n",
    "]"
   ]
  },
  {
   "cell_type": "code",
   "execution_count": 7,
   "metadata": {},
   "outputs": [
    {
     "data": {
      "image/png": "[encoded data removed]",
      "text/plain": [
       "<Figure size 432x288 with 1 Axes>"
      ]
     },
     "metadata": {
      "needs_background": "light"
     },
     "output_type": "display_data"
    }
   ],
   "source": [
    "radii_cubed_data = np.array([b['Average Radii'] for b in batches_data])\n",
    "ivf_data = np.array([b['IVF'] for b in batches_data])\n",
    "x = range(len(batches_data))\n",
    "\n",
    "# plot radii cubed data points\n",
    "plt.figure()\n",
    "\n",
    "# Add labels and title\n",
    "plt.xlabel('Time (minutes)')\n",
    "plt.ylabel('Radii^3')\n",
    "plt.title('Radii Cubed Data')\n",
    "\n",
    "# plot scatterplot and line of best fit \n",
    "a, b = np.polyfit(x, radii_cubed_data, 1)\n",
    "plt.scatter(x, radii_cubed_data, color='c', marker='o', label='Radii^3 Data Points')\n",
    "plt.plot(x, a*x+b, color='black', linestyle='--', linewidth=2)\n",
    "\n",
    "# Show the plot\n",
    "plt.show()"
   ]
  },
  {
   "cell_type": "code",
   "execution_count": 8,
   "metadata": {},
   "outputs": [
    {
     "data": {
      "image/png": "[encoded data removed]",
      "text/plain": [
       "<Figure size 432x288 with 1 Axes>"
      ]
     },
     "metadata": {
      "needs_background": "light"
     },
     "output_type": "display_data"
    }
   ],
   "source": [
    "# plot IVF data\n",
    "plt.figure()\n",
    "\n",
    "# Add labels and title\n",
    "plt.xlabel('Time (minutes)')\n",
    "plt.ylabel('IVF')\n",
    "plt.title('IVF Data')\n",
    "\n",
    "# plot scatterplot and line of best fit \n",
    "a, b = np.polyfit(x, ivf_data, 1)\n",
    "plt.scatter(x, ivf_data, color='aquamarine', marker='D', label='IVF Data Points')\n",
    "plt.plot(x, a*x+b, color='black', linestyle='--', linewidth=2)\n",
    "\n",
    "# Show plot\n",
    "plt.show()"
   ]
  }
 ],
 "metadata": {
  "kernelspec": {
   "display_name": "Python 3",
   "language": "python",
   "name": "python3"
  },
  "language_info": {
   "codemirror_mode": {
    "name": "ipython",
    "version": 3
   },
   "file_extension": ".py",
   "mimetype": "text/x-python",
   "name": "python",
   "nbconvert_exporter": "python",
   "pygments_lexer": "ipython3",
   "version": "3.8.3"
  }
 },
 "nbformat": 4,
 "nbformat_minor": 4
}
